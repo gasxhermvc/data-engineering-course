{
 "cells": [
  {
   "cell_type": "code",
   "execution_count": 1,
   "metadata": {},
   "outputs": [
    {
     "data": {
      "text/plain": [
       "'en_US'"
      ]
     },
     "execution_count": 1,
     "metadata": {},
     "output_type": "execute_result"
    }
   ],
   "source": [
    "import requests\n",
    "import json\n",
    "import locale\n",
    "locale.setlocale(locale.LC_ALL, 'en_US')"
   ]
  },
  {
   "cell_type": "code",
   "execution_count": 2,
   "metadata": {},
   "outputs": [],
   "source": [
    "url = 'https://notify-api.line.me/api/notify'"
   ]
  },
  {
   "cell_type": "code",
   "execution_count": 3,
   "metadata": {},
   "outputs": [],
   "source": [
    "token = 'X3esjhlASjGdwkNRRIkTsGLa7-----------'"
   ]
  },
  {
   "cell_type": "code",
   "execution_count": 4,
   "metadata": {},
   "outputs": [],
   "source": [
    "headers = {'content-type':'application/x-www-form-urlencoded','Authorization':'Bearer '+token}"
   ]
  },
  {
   "cell_type": "code",
   "execution_count": 5,
   "metadata": {},
   "outputs": [],
   "source": [
    "f = open('./logs/stats.json','r')\n",
    "content = f.read()\n",
    "f.close()"
   ]
  },
  {
   "cell_type": "code",
   "execution_count": 6,
   "metadata": {},
   "outputs": [],
   "source": [
    "data = json.loads(content)"
   ]
  },
  {
   "cell_type": "code",
   "execution_count": 7,
   "metadata": {},
   "outputs": [
    {
     "name": "stderr",
     "output_type": "stream",
     "text": [
      "C:\\Users\\006006\\AppData\\Local\\Temp\\ipykernel_14804\\2385592825.py:1: DeprecationWarning: This method will be removed in a future version of Python. Use 'locale.format_string()' instead.\n",
      "  msg = 'พบตำแหน่งที่อยู่ภายในจังหวัดเพชรบุรีจำนวน ' +  locale.format(\"%d\", data['stats_within'], grouping=True) + ' point(s)\\nภายนอกจังหวัดจำนวน ' + locale.format(\"%d\", data['stats_not_within'], grouping=True)  + ' point(s).'\n"
     ]
    }
   ],
   "source": [
    "msg = 'พบตำแหน่งที่อยู่ภายในจังหวัดเพชรบุรีจำนวน ' +  locale.format(\"%d\", data['stats_within'], grouping=True) + ' point(s)\\nภายนอกจังหวัดจำนวน ' + locale.format(\"%d\", data['stats_not_within'], grouping=True)  + ' point(s).'"
   ]
  },
  {
   "cell_type": "code",
   "execution_count": 8,
   "metadata": {},
   "outputs": [
    {
     "name": "stdout",
     "output_type": "stream",
     "text": [
      "{\"status\":200,\"message\":\"ok\"}\n"
     ]
    }
   ],
   "source": [
    "r = requests.post(url, headers=headers, data = {'message':msg})\n",
    "print (r.text)"
   ]
  }
 ],
 "metadata": {
  "kernelspec": {
   "display_name": "base",
   "language": "python",
   "name": "python3"
  },
  "language_info": {
   "codemirror_mode": {
    "name": "ipython",
    "version": 3
   },
   "file_extension": ".py",
   "mimetype": "text/x-python",
   "name": "python",
   "nbconvert_exporter": "python",
   "pygments_lexer": "ipython3",
   "version": "3.11.5"
  }
 },
 "nbformat": 4,
 "nbformat_minor": 2
}
